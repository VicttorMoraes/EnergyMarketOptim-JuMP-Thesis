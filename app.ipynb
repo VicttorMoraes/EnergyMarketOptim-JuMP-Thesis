{
 "cells": [
  {
   "cell_type": "markdown",
   "metadata": {},
   "source": [
    "# Import JuMP and the solver GLPK"
   ]
  },
  {
   "cell_type": "code",
   "execution_count": 2,
   "metadata": {},
   "outputs": [],
   "source": [
    "using JuMP, GLPK\n",
    "import CSV\n",
    "import DataFrames\n",
    "\n",
    "using Suppressor"
   ]
  },
  {
   "cell_type": "markdown",
   "metadata": {},
   "source": [
    "# Dataframes"
   ]
  },
  {
   "cell_type": "code",
   "execution_count": null,
   "metadata": {},
   "outputs": [],
   "source": [
    "# Real-Time Price - DataFrame\n",
    "priceRT_file = \"Price-Real-Time-2023.csv\"\n",
    "priceRT_df = CSV.read(priceRT_file, DataFrames.DataFrame; drop=[:1])\n",
    "priceRT_df = coalesce.(priceRT_df, 0)"
   ]
  },
  {
   "cell_type": "code",
   "execution_count": null,
   "metadata": {},
   "outputs": [],
   "source": [
    "# Real-Time Generation - DataFrame\n",
    "genRT_file = \"Price-Real-Time-2023.csv\"\n",
    "genRT_df = CSV.read(genRT_file, DataFrames.DataFrame; drop=[:1])\n",
    "genRT_df = coalesce.(genRT_df, 0)"
   ]
  },
  {
   "cell_type": "markdown",
   "metadata": {},
   "source": [
    "# Problem"
   ]
  },
  {
   "cell_type": "code",
   "execution_count": 90,
   "metadata": {},
   "outputs": [],
   "source": [
    "# \n",
    "priceDA = [0 10 20 30 40 50 100];\n",
    "priceRT = priceRT_df\n",
    "gRT     = genRT_df\n",
    "\n",
    "G         = 100      # Maximum Generation/Quantity | Unit: MW\n",
    "nScen     = 200      # Number os scenarios         | Unit: Scalar (One-Dimensional)\n",
    "\n",
    "result = []\n",
    "for ih in 1:7\n",
    "\n",
    "    m = Model(GLPK.Optimizer)\n",
    "\n",
    "    # qDA = Asset's Day-Ahead Generation Offered \n",
    "    @variable(m, 0 <= qDA[h in 1:24] <= G)\n",
    "    @objective(m, Max, sum((priceDA[ih] * qDA[h] + 1/nScen * sum((priceRT[s,h] * (gRT[s,h] - qDA[h])) for s in 1:nScen)) for h in 1:24))\n",
    "\n",
    "    optimize!(m)\n",
    "    termination_status(m)\n",
    "    # Printar modelo, equação de maximização e restrições\n",
    "    # if ih == 1 \n",
    "    #     println(m)\n",
    "    #     println(solution_summary(m))\n",
    "    # end\n",
    "    push!(result, value(qDA[ih]))\n",
    "end\n"
   ]
  },
  {
   "cell_type": "markdown",
   "metadata": {},
   "source": [
    "# Results"
   ]
  },
  {
   "cell_type": "code",
   "execution_count": 95,
   "metadata": {},
   "outputs": [
    {
     "data": {
      "text/html": [
       "<div><div style = \"float: left;\"><span>7×2 DataFrame</span></div><div style = \"clear: both;\"></div></div><div class = \"data-frame\" style = \"overflow-x: scroll;\"><table class = \"data-frame\" style = \"margin-bottom: 6px;\"><thead><tr class = \"header\"><th class = \"rowNumber\" style = \"font-weight: bold; text-align: right;\">Row</th><th style = \"text-align: left;\">Price_DA</th><th style = \"text-align: left;\">Offer_Gen_DA</th></tr><tr class = \"subheader headerLastRow\"><th class = \"rowNumber\" style = \"font-weight: bold; text-align: right;\"></th><th title = \"Int64\" style = \"text-align: left;\">Int64</th><th title = \"Any\" style = \"text-align: left;\">Any</th></tr></thead><tbody><tr><td class = \"rowNumber\" style = \"font-weight: bold; text-align: right;\">1</td><td style = \"text-align: right;\">0</td><td style = \"text-align: left;\">0.0</td></tr><tr><td class = \"rowNumber\" style = \"font-weight: bold; text-align: right;\">2</td><td style = \"text-align: right;\">10</td><td style = \"text-align: left;\">0.0</td></tr><tr><td class = \"rowNumber\" style = \"font-weight: bold; text-align: right;\">3</td><td style = \"text-align: right;\">20</td><td style = \"text-align: left;\">100.0</td></tr><tr><td class = \"rowNumber\" style = \"font-weight: bold; text-align: right;\">4</td><td style = \"text-align: right;\">30</td><td style = \"text-align: left;\">100.0</td></tr><tr><td class = \"rowNumber\" style = \"font-weight: bold; text-align: right;\">5</td><td style = \"text-align: right;\">40</td><td style = \"text-align: left;\">100.0</td></tr><tr><td class = \"rowNumber\" style = \"font-weight: bold; text-align: right;\">6</td><td style = \"text-align: right;\">50</td><td style = \"text-align: left;\">100.0</td></tr><tr><td class = \"rowNumber\" style = \"font-weight: bold; text-align: right;\">7</td><td style = \"text-align: right;\">100</td><td style = \"text-align: left;\">100.0</td></tr></tbody></table></div>"
      ],
      "text/latex": [
       "\\begin{tabular}{r|cc}\n",
       "\t& Price\\_DA & Offer\\_Gen\\_DA\\\\\n",
       "\t\\hline\n",
       "\t& Int64 & Any\\\\\n",
       "\t\\hline\n",
       "\t1 & 0 & 0.0 \\\\\n",
       "\t2 & 10 & 0.0 \\\\\n",
       "\t3 & 20 & 100.0 \\\\\n",
       "\t4 & 30 & 100.0 \\\\\n",
       "\t5 & 40 & 100.0 \\\\\n",
       "\t6 & 50 & 100.0 \\\\\n",
       "\t7 & 100 & 100.0 \\\\\n",
       "\\end{tabular}\n"
      ],
      "text/plain": [
       "\u001b[1m7×2 DataFrame\u001b[0m\n",
       "\u001b[1m Row \u001b[0m│\u001b[1m Price_DA \u001b[0m\u001b[1m Offer_Gen_DA \u001b[0m\n",
       "     │\u001b[90m Int64    \u001b[0m\u001b[90m Any          \u001b[0m\n",
       "─────┼────────────────────────\n",
       "   1 │        0  0.0\n",
       "   2 │       10  0.0\n",
       "   3 │       20  100.0\n",
       "   4 │       30  100.0\n",
       "   5 │       40  100.0\n",
       "   6 │       50  100.0\n",
       "   7 │      100  100.0"
      ]
     },
     "execution_count": 95,
     "metadata": {},
     "output_type": "execute_result"
    }
   ],
   "source": [
    "# Create DataFrame\n",
    "df = DataFrame(Price_DA = vec(priceDA), Offer_Gen_DA = result)"
   ]
  }
 ],
 "metadata": {
  "kernelspec": {
   "display_name": "Julia 1.9.2",
   "language": "julia",
   "name": "julia-1.9"
  },
  "language_info": {
   "file_extension": ".jl",
   "mimetype": "application/julia",
   "name": "julia",
   "version": "1.9.2"
  },
  "orig_nbformat": 4
 },
 "nbformat": 4,
 "nbformat_minor": 2
}
